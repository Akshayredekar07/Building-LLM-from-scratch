{
 "cells": [
  {
   "cell_type": "code",
   "execution_count": 1,
   "id": "a83af85c",
   "metadata": {},
   "outputs": [],
   "source": [
    "import torch\n",
    "\n",
    "inputs = torch.tensor(\n",
    "    [[0.43, 0.15, 0.89],  # Your     (x^1)\n",
    "     [0.55, 0.87, 0.66],  # journey  (x^2)\n",
    "     [0.57, 0.85, 0.64],  # starts   (x^3)\n",
    "     [0.22, 0.58, 0.33],  # with     (x^4)\n",
    "     [0.77, 0.25, 0.10],  # one      (x^5)\n",
    "     [0.05, 0.80, 0.55]]  # step     (x^6)\n",
    ")"
   ]
  },
  {
   "cell_type": "code",
   "execution_count": 2,
   "id": "a58bf875",
   "metadata": {},
   "outputs": [],
   "source": [
    "import torch.nn as nn"
   ]
  },
  {
   "cell_type": "code",
   "execution_count": 3,
   "id": "290564a3",
   "metadata": {},
   "outputs": [],
   "source": [
    "class SelfAttention_v2(nn.Module):\n",
    "\n",
    "    def __init__(self, d_in, d_out, qkv_bias=False):\n",
    "        super().__init__()\n",
    "        self.W_query = nn.Linear(d_in, d_out, bias=qkv_bias)\n",
    "        self.W_key   = nn.Linear(d_in, d_out, bias=qkv_bias)\n",
    "        self.W_value = nn.Linear(d_in, d_out, bias=qkv_bias)\n",
    "\n",
    "    def forward(self, x):\n",
    "        keys = self.W_key(x)\n",
    "        queries = self.W_query(x)\n",
    "        values = self.W_value(x)\n",
    "        \n",
    "        attn_scores = queries @ keys.T\n",
    "        attn_weights = torch.softmax(attn_scores / keys.shape[-1]**0.5, dim=-1)\n",
    "\n",
    "        context_vec = attn_weights @ values\n",
    "        return context_vec"
   ]
  },
  {
   "cell_type": "code",
   "execution_count": 4,
   "id": "a7ad2b1b",
   "metadata": {},
   "outputs": [],
   "source": [
    "\n",
    "inputs = torch.tensor(\n",
    "    [[0.43, 0.15, 0.89],  # Your     (x^1)\n",
    "     [0.55, 0.87, 0.66],  # journey  (x^2)\n",
    "     [0.57, 0.85, 0.64],  # starts   (x^3)\n",
    "     [0.22, 0.58, 0.33],  # with     (x^4)\n",
    "     [0.77, 0.25, 0.10],  # one      (x^5)\n",
    "     [0.05, 0.80, 0.55]]  # step     (x^6)\n",
    ")"
   ]
  },
  {
   "cell_type": "code",
   "execution_count": 6,
   "id": "81c27957",
   "metadata": {},
   "outputs": [
    {
     "name": "stdout",
     "output_type": "stream",
     "text": [
      "torch.Size([6, 3])\n"
     ]
    }
   ],
   "source": [
    "print(inputs.shape)"
   ]
  },
  {
   "cell_type": "code",
   "execution_count": null,
   "id": "8e274de3",
   "metadata": {},
   "outputs": [
    {
     "data": {
      "text/plain": [
       "tensor([[-0.0739,  0.0713],\n",
       "        [-0.0748,  0.0703],\n",
       "        [-0.0749,  0.0702],\n",
       "        [-0.0760,  0.0685],\n",
       "        [-0.0763,  0.0679],\n",
       "        [-0.0754,  0.0693]], grad_fn=<MmBackward0>)"
      ]
     },
     "execution_count": 8,
     "metadata": {},
     "output_type": "execute_result"
    }
   ],
   "source": [
    "d_in = inputs.shape[1] # 3, from (6, 3)\n",
    "d_out = 2\n",
    "torch.manual_seed(789)\n",
    "self_attention_v2 = SelfAttention_v2(d_in, d_out)\n",
    "self_attention_v2(inputs)"
   ]
  },
  {
   "cell_type": "code",
   "execution_count": 9,
   "id": "bdc6ba15",
   "metadata": {},
   "outputs": [
    {
     "name": "stdout",
     "output_type": "stream",
     "text": [
      "tensor([[0.1677, 0.1666, 0.1666, 0.1662, 0.1669, 0.1660],\n",
      "        [0.1682, 0.1667, 0.1667, 0.1659, 0.1667, 0.1658],\n",
      "        [0.1682, 0.1667, 0.1667, 0.1659, 0.1667, 0.1658],\n",
      "        [0.1675, 0.1667, 0.1667, 0.1662, 0.1667, 0.1662],\n",
      "        [0.1674, 0.1667, 0.1667, 0.1663, 0.1666, 0.1663],\n",
      "        [0.1678, 0.1667, 0.1667, 0.1661, 0.1667, 0.1661]],\n",
      "       grad_fn=<SoftmaxBackward0>)\n"
     ]
    }
   ],
   "source": [
    "queries = self_attention_v2.W_query(inputs)\n",
    "keys = self_attention_v2.W_key(inputs)\n",
    "attn_scores = queries @ keys.T\n",
    "attn_weights = torch.softmax(attn_scores/keys.shape[-1]**5, dim=-1)\n",
    "print(attn_weights)"
   ]
  },
  {
   "cell_type": "code",
   "execution_count": null,
   "id": "a2dbbe32",
   "metadata": {},
   "outputs": [],
   "source": [
    "import torch\n",
    "import torch.nn as nn\n",
    "\n",
    "class SelfAttention_v2(nn.Module):\n",
    "    def __init__(self, d_in, d_out, qkv_bias=False):\n",
    "        super().__init__()\n",
    "        self.W_query = nn.Linear(d_in, d_out, bias=qkv_bias)\n",
    "        self.W_key = nn.Linear(d_in, d_out, bias=qkv_bias)\n",
    "        self.W_value = nn.Linear(d_in, d_out, bias=qkv_bias)\n",
    "\n",
    "    def forward(self, x):\n",
    "        keys = self.W_key(x)\n",
    "        queries = self.W_query(x)\n",
    "        values = self.W_value(x)\n",
    "        \n",
    "        attn_scores = queries @ keys.T\n",
    "        attn_weights = torch.softmax(attn_scores / keys.shape[-1]**0.5, dim=-1)\n",
    "\n",
    "        context_vec = attn_weights @ values\n",
    "        return context_vec\n",
    "\n",
    "# Define inputs tensor\n",
    "inputs = torch.tensor(\n",
    "    [[0.43, 0.15, 0.89],  # Your     (x^1)\n",
    "     [0.55, 0.87, 0.66],  # journey  (x^2)\n",
    "     [0.57, 0.85, 0.64],  # starts   (x^3)\n",
    "     [0.22, 0.58, 0.33],  # with     (x^4)\n",
    "     [0.77, 0.25, 0.10],  # one      (x^5)\n",
    "     [0.05, 0.80, 0.55]]  # step     (x^6)\n",
    ")\n",
    "\n",
    "# Define parameters\n",
    "d_in = inputs.shape[1]  # 3\n",
    "d_out = 2\n",
    "torch.manual_seed(789)\n",
    "\n",
    "# Initialize self-attention module\n",
    "self_attention_v2 = SelfAttention_v2(d_in, d_out)\n",
    "\n",
    "# Apply self-attention\n",
    "self_attention_v2(inputs)\n",
    "\n",
    "# Compute attention weights separately\n",
    "queries = self_attention_v2.W_query(inputs)\n",
    "keys = self_attention_v2.W_key(inputs)\n",
    "attn_scores = queries @ keys.T\n",
    "attn_weights = torch.softmax(attn_scores / keys.shape[-1]**5, dim=-1)\n",
    "\n",
    "# Print attention weights\n",
    "print(attn_weights)\n",
    "\n",
    "# === Structured Dry Run ===\n",
    "# 1. Define inputs tensor\n",
    "#    - inputs = tensor([[0.43, 0.15, 0.89],  # Your\n",
    "#                      [0.55, 0.87, 0.66],  # journey\n",
    "#                      [0.57, 0.85, 0.64],  # starts\n",
    "#                      [0.22, 0.58, 0.33],  # with\n",
    "#                      [0.77, 0.25, 0.10],  # one\n",
    "#                      [0.05, 0.80, 0.55]]) # step\n",
    "#    - Shape: (6, 3)\n",
    "\n",
    "# 2. Define parameters\n",
    "#    - d_in = inputs.shape[1] = 3 (input dimension)\n",
    "#    - d_out = 2 (output dimension for queries, keys, values)\n",
    "#    - torch.manual_seed(789) (sets random seed for reproducibility)\n",
    "\n",
    "# 3. Initialize SelfAttention_v2\n",
    "#    - self_attention_v2 = SelfAttention_v2(d_in=3, d_out=2, qkv_bias=False)\n",
    "#    - Creates three linear layers:\n",
    "#      - self.W_query = nn.Linear(3, 2, bias=False)\n",
    "#      - self.W_key = nn.Linear(3, 2, bias=False)\n",
    "#      - self.W_value = nn.Linear(3, 2, bias=False)\n",
    "#    - Weight matrices (shape: (2, 3)) initialized with seed 789\n",
    "#    - Example weights (using torch.manual_seed(789)):\n",
    "#      - W_query.weight = tensor([[ 0.2961, -0.5162,  0.2337],\n",
    "#                                 [ 0.0466, -0.1660,  0.0934]])\n",
    "#      - W_key.weight = tensor([[ 0.3683, -0.1028, -0.3513],\n",
    "#                               [ 0.5293,  0.1334,  0.1724]])\n",
    "#      - W_value.weight = tensor([[ 0.3813,  0.1719, -0.4331],\n",
    "#                                 [-0.5690, -0.3487, -0.5534]])\n",
    "\n",
    "# 4. Apply self_attention_v2(inputs) (forward pass)\n",
    "#    - Input x = inputs (shape: (6, 3))\n",
    "#    - Compute keys:\n",
    "#      - keys = self.W_key(inputs) = inputs @ W_key.weight.T\n",
    "#      - Shape: (6, 3) @ (3, 2) = (6, 2)\n",
    "#      - Example for first row: inputs[0] = [0.43, 0.15, 0.89]\n",
    "#        - keys[0] = [0.43, 0.15, 0.89] @ [[ 0.3683,  0.5293],\n",
    "#                                         [-0.1028,  0.1334],\n",
    "#                                         [-0.3513,  0.1724]]\n",
    "#                  = [0.43*0.3683 + 0.15*(-0.1028) + 0.89*(-0.3513),\n",
    "#                     0.43*0.5293 + 0.15*0.1334 + 0.89*0.1724]\n",
    "#                  = [0.1584 - 0.0154 - 0.3127, 0.2277 + 0.0200 + 0.1534]\n",
    "#                  = [-0.1697, 0.4012]\n",
    "#      - keys = tensor([[-0.1697,  0.4012],\n",
    "#                       [-0.0745,  0.4969],\n",
    "#                       [-0.0824,  0.4924],\n",
    "#                       [-0.0386,  0.2471],\n",
    "#                       [ 0.1706,  0.4811],\n",
    "#                       [-0.1347,  0.2330]])\n",
    "#    - Compute queries:\n",
    "#      - queries = self.W_query(inputs) = inputs @ W_query.weight.T\n",
    "#      - Shape: (6, 3) @ (3, 2) = (6, 2)\n",
    "#      - queries = tensor([[ 0.2588,  0.0947],\n",
    "#                          [-0.0333,  0.0383],\n",
    "#                          [-0.0305,  0.0392],\n",
    "#                          [-0.0088,  0.0268],\n",
    "#                          [ 0.1618,  0.1118],\n",
    "#                          [-0.0745,  0.0172]])\n",
    "#    - Compute values:\n",
    "#      - values = self.W_value(inputs) = inputs @ W_value.weight.T\n",
    "#      - Shape: (6, 3) @ (3, 2) = (6, 2)\n",
    "#      - values = tensor([[-0.1934, -0.5714],\n",
    "#                         [ 0.1366, -0.6279],\n",
    "#                         [ 0.1325, -0.6270],\n",
    "#                         [ 0.0540, -0.3151],\n",
    "#                         [ 0.1686, -0.3475],\n",
    "#                         [ 0.1470, -0.4285]])\n",
    "#    - Compute attention scores:\n",
    "#      - attn_scores = queries @ keys.T\n",
    "#      - Shape: (6, 2) @ (2, 6) = (6, 6)\n",
    "#      - Example for attn_scores[0, 0]:\n",
    "#        - queries[0] = [0.2588, 0.0947], keys[0] = [-0.1697, 0.4012]\n",
    "#        - attn_scores[0, 0] = 0.2588*(-0.1697) + 0.0947*0.4012 = -0.0439 + 0.0380 = -0.0059\n",
    "#      - attn_scores = tensor([[-0.0059, -0.0041, -0.0045, -0.0008,  0.0134, -0.0083],\n",
    "#                             [ 0.0088,  0.0027,  0.0029, -0.0009,  0.0081,  0.0034],\n",
    "#                             [ 0.0083,  0.0027,  0.0029, -0.0008,  0.0080,  0.0033],\n",
    "#                             [ 0.0027,  0.0002,  0.0003, -0.0005,  0.0033,  0.0006],\n",
    "#                             [-0.0081, -0.0038, -0.0040, -0.0016,  0.0047, -0.0054],\n",
    "#                             [ 0.0133,  0.0037,  0.0039, -0.0001,  0.0106,  0.0044]])\n",
    "#    - Compute attention weights:\n",
    "#      - keys.shape[-1] = 2\n",
    "#      - Scale: attn_scores / keys.shape[-1]**0.5 = attn_scores / sqrt(2) ≈ attn_scores / 1.4142\n",
    "#      - Scaled scores = tensor([[-0.0042, -0.0029, -0.0032, -0.0006,  0.0095, -0.0059],\n",
    "#                               [ 0.0062,  0.0019,  0.0021, -0.0006,  0.0057,  0.0024],\n",
    "#                               [ 0.0059,  0.0019,  0.0020, -0.0006,  0.0057,  0.0023],\n",
    "#                               [ 0.0019,  0.0001,  0.0002, -0.0004,  0.0023,  0.0004],\n",
    "#                               [-0.0057, -0.0027, -0.0028, -0.0011,  0.0033, -0.0038],\n",
    "#                               [ 0.0094,  0.0026,  0.0028, -0.0001,  0.0075,  0.0031]])\n",
    "#      - Apply softmax along dim=-1:\n",
    "#        - Row 0: [-0.0042, -0.0029, -0.0032, -0.0006,  0.0095, -0.0059]\n",
    "#          - exp: [0.9958, 0.9971, 0.9968, 0.9994, 1.0095, 0.9941]\n",
    "#          - Sum: 0.9958 + 0.9971 + 0.9968 + 0.9994 + 1.0095 + 0.9941 = 5.9927\n",
    "#          - Weights: [0.1662, 0.1664, 0.1663, 0.1667, 0.1685, 0.1659]\n",
    "#        - Similarly for other rows\n",
    "#      - attn_weights = tensor([[0.1662, 0.1664, 0.1663, 0.1667, 0.1685, 0.1659],\n",
    "#                              [0.1672, 0.1664, 0.1664, 0.1659, 0.1671, 0.1665],\n",
    "#                              [0.1671, 0.1664, 0.1664, 0.1659, 0.1671, 0.1665],\n",
    "#                              [0.1666, 0.1663, 0.1663, 0.1662, 0.1667, 0.1663],\n",
    "#                              [0.1658, 0.1663, 0.1663, 0.1665, 0.1670, 0.1661],\n",
    "#                              [0.1675, 0.1663, 0.1663, 0.1658, 0.1673, 0.1664]])\n",
    "#    - Compute context vector:\n",
    "#      - context_vec = attn_weights @ values\n",
    "#      - Shape: (6, 6) @ (6, 2) = (6, 2)\n",
    "#      - context_vec = tensor([[-0.0283, -0.4862],\n",
    "#                              [-0.0279, -0.4860],\n",
    "#                              [-0.0279, -0.4860],\n",
    "#                              [-0.0280, -0.4860],\n",
    "#                              [-0.0280, -0.4860],\n",
    "#                              [-0.0278, -0.4860]])\n",
    "#    - Return context_vec (not printed)\n",
    "\n",
    "# 5. Compute attn_weights separately\n",
    "#    - queries = self.W_query(inputs) (same as above, shape: (6, 2))\n",
    "#    - keys = self.W_key(inputs) (same as above, shape: (6, 2))\n",
    "#    - attn_scores = queries @ keys.T (same as above, shape: (6, 6))\n",
    "#    - Scale: attn_scores / keys.shape[-1]**5 = attn_scores / 2**5 = attn_scores / 32\n",
    "#      - Note: This is likely a typo; should be keys.shape[-1]**0.5 (sqrt(2) ≈ 1.4142)\n",
    "#      - Scaled scores = tensor([[-0.0002, -0.0001, -0.0001, -0.0000,  0.0004, -0.0003],\n",
    "#                               [ 0.0003,  0.0001,  0.0001, -0.0000,  0.0003,  0.0001],\n",
    "#                               [ 0.0003,  0.0001,  0.0001, -0.0000,  0.0002,  0.0001],\n",
    "#                               [ 0.0001,  0.0000,  0.0000, -0.0000,  0.0001,  0.0000],\n",
    "#                               [-0.0003, -0.0001, -0.0001, -0.0000,  0.0001, -0.0002],\n",
    "#                               [ 0.0004,  0.0001,  0.0001, -0.0000,  0.0003,  0.0001]])\n",
    "#    - Apply softmax along dim=-1:\n",
    "#      - Row 0: [-0.0002, -0.0001, -0.0001, -0.0000,  0.0004, -0.0003]\n",
    "#        - exp: [0.9998, 0.9999, 0.9999, 1.0000, 1.0004, 0.9997]\n",
    "#        - Sum: 0.9998 + 0.9999 + 0.9999 + 1.0000 + 1.0004 + 0.9997 = 5.9997\n",
    "#        - Weights: [0.1666, 0.1667, 0.1667, 0.1667, 0.1668, 0.1666]\n",
    "#      - Similarly for other rows\n",
    "#      - attn_weights = tensor([[0.1666, 0.1667, 0.1667, 0.1667, 0.1668, 0.1666],\n",
    "#                              [0.1667, 0.1667, 0.1667, 0.1666, 0.1667, 0.1667],\n",
    "#                              [0.1667, 0.1667, 0.1667, 0.1666, 0.1667, 0.1667],\n",
    "#                              [0.1667, 0.1667, 0.1667, 0.1666, 0.1667, 0.1667],\n",
    "#                              [0.1666, 0.1667, 0.1667, 0.1667, 0.1667, 0.1666],\n",
    "#                              [0.1667, 0.1667, 0.1667, 0.1666, 0.1667, 0.1667]])\n",
    "#    - Note: Due to large scaling (1/32), scores become very small, and softmax produces near-uniform weights\n",
    "\n",
    "# 6. Print attn_weights\n",
    "#    - Output: tensor([[0.1666, 0.1667, 0.1667, 0.1667, 0.1668, 0.1666],\n",
    "#                     [0.1667, 0.1667, 0.1667, 0.1666, 0.1667, 0.1667],\n",
    "#                     [0.1667, 0.1667, 0.1667, 0.1666, 0.1667, 0.1667],\n",
    "#                     [0.1667, 0.1667, 0.1667, 0.1666, 0.1667, 0.1667],\n",
    "#                     [0.1666, 0.1667, 0.1667, 0.1667, 0.1667, 0.1666],\n",
    "#                     [0.1667, 0.1667, 0.1667, 0.1666, 0.1667, 0.1667]])\n",
    "\n",
    "# === End of Dry Run ==="
   ]
  },
  {
   "cell_type": "code",
   "execution_count": null,
   "id": "b0c1814f",
   "metadata": {},
   "outputs": [],
   "source": [
    "import torch\n",
    "\n",
    "# Assume attn_weights from previous context\n",
    "attn_weights = torch.tensor([[0.1666, 0.1667, 0.1667, 0.1667, 0.1668, 0.1666],\n",
    "                            [0.1667, 0.1667, 0.1667, 0.1666, 0.1667, 0.1667],\n",
    "                            [0.1667, 0.1667, 0.1667, 0.1666, 0.1667, 0.1667],\n",
    "                            [0.1667, 0.1667, 0.1667, 0.1666, 0.1667, 0.1667],\n",
    "                            [0.1666, 0.1667, 0.1667, 0.1667, 0.1667, 0.1666],\n",
    "                            [0.1667, 0.1667, 0.1667, 0.1666, 0.1667, 0.1667]])\n",
    "\n",
    "# Create causal mask\n",
    "context_length = attn_weights.shape[0]\n",
    "mask_simple = torch.tril(torch.ones(context_length, context_length))\n",
    "print(mask_simple)\n",
    "\n",
    "# Apply mask to attention weights\n",
    "masked_simple = attn_weights * mask_simple\n",
    "\n",
    "# Normalize masked weights\n",
    "row_sums = masked_simple.sum(dim=1, keepdim=True)\n",
    "masked_simple_norm = masked_simple / row_sums\n",
    "print(masked_simple_norm)\n",
    "\n",
    "# === Structured Dry Run ===\n",
    "# 1. Define context_length\n",
    "#    - context_length = attn_weights.shape[0] = 6 (number of tokens)\n",
    "\n",
    "# 2. Create causal mask\n",
    "#    - torch.ones(context_length, context_length) = torch.ones(6, 6)\n",
    "#      - Creates a 6x6 tensor of ones:\n",
    "#        tensor([[1., 1., 1., 1., 1., 1.],\n",
    "#                [1., 1., 1., 1., 1., 1.],\n",
    "#                [1., 1., 1., 1., 1., 1.],\n",
    "#                [1., 1., 1., 1., 1., 1.],\n",
    "#                [1., 1., 1., 1., 1., 1.],\n",
    "#                [1., 1., 1., 1., 1., 1.]])\n",
    "#    - mask_simple = torch.tril(torch.ones(6, 6))\n",
    "#      - Applies lower triangular mask (sets elements above diagonal to 0):\n",
    "#        tensor([[1., 0., 0., 0., 0., 0.],\n",
    "#                [1., 1., 0., 0., 0., 0.],\n",
    "#                [1., 1., 1., 0., 0., 0.],\n",
    "#                [1., 1., 1., 1., 0., 0.],\n",
    "#                [1., 1., 1., 1., 1., 0.],\n",
    "#                [1., 1., 1., 1., 1., 1.]])\n",
    "#    - Shape: (6, 6)\n",
    "\n",
    "# 3. Print mask_simple\n",
    "#    - Output: tensor([[1., 0., 0., 0., 0., 0.],\n",
    "#                     [1., 1., 0., 0., 0., 0.],\n",
    "#                     [1., 1., 1., 0., 0., 0.],\n",
    "#                     [1., 1., 1., 1., 0., 0.],\n",
    "#                     [1., 1., 1., 1., 1., 0.],\n",
    "#                     [1., 1., 1., 1., 1., 1.]])\n",
    "\n",
    "# 4. Apply mask to attention weights\n",
    "#    - masked_simple = attn_weights * mask_simple\n",
    "#    - Element-wise multiplication:\n",
    "#      - Row 0: [0.1666, 0.1667, 0.1667, 0.1667, 0.1668, 0.1666] * [1, 0, 0, 0, 0, 0] = [0.1666, 0.0000, 0.0000, 0.0000, 0.0000, 0.0000]\n",
    "#      - Row 1: [0.1667, 0.1667, 0.1667, 0.1666, 0.1667, 0.1667] * [1, 1, 0, 0, 0, 0] = [0.1667, 0.1667, 0.0000, 0.0000, 0.0000, 0.0000]\n",
    "#      - Row 2: [0.1667, 0.1667, 0.1667, 0.1666, 0.1667, 0.1667] * [1, 1, 1, 0, 0, 0] = [0.1667, 0.1667, 0.1667, 0.0000, 0.0000, 0.0000]\n",
    "#      - Row 3: [0.1667, 0.1667, 0.1667, 0.1666, 0.1667, 0.1667] * [1, 1, 1, 1, 0, 0] = [0.1667, 0.1667, 0.1667, 0.1666, 0.0000, 0.0000]\n",
    "#      - Row 4: [0.1666, 0.1667, 0.1667, 0.1667, 0.1667, 0.1666] * [1, 1, 1, 1, 1, 0] = [0.1666, 0.1667, 0.1667, 0.1667, 0.1667, 0.0000]\n",
    "#      - Row 5: [0.1667, 0.1667, 0.1667, 0.1666, 0.1667, 0.1667] * [1, 1, 1, 1, 1, 1] = [0.1667, 0.1667, 0.1667, 0.1666, 0.1667, 0.1667]\n",
    "#    - masked_simple = tensor([[0.1666, 0.0000, 0.0000, 0.0000, 0.0000, 0.0000],\n",
    "#                              [0.1667, 0.1667, 0.0000, 0.0000, 0.0000, 0.0000],\n",
    "#                              [0.1667, 0.1667, 0.1667, 0.0000, 0.0000, 0.0000],\n",
    "#                              [0.1667, 0.1667, 0.1667, 0.1666, 0.0000, 0.0000],\n",
    "#                              [0.1666, 0.1667, 0.1667, 0.1667, 0.1667, 0.0000],\n",
    "#                              [0.1667, 0.1667, 0.1667, 0.1666, 0.1667, 0.1667]])\n",
    "#    - Shape: (6, 6)\n",
    "\n",
    "# 5. Compute row sums\n",
    "#    - row_sums = masked_simple.sum(dim=1, keepdim=True)\n",
    "#    - Sum along dim=1 (columns), keep dimension for broadcasting:\n",
    "#      - Row 0: 0.1666 = 0.1666\n",
    "#      - Row 1: 0.1667 + 0.1667 = 0.3334\n",
    "#      - Row 2: 0.1667 + 0.1667 + 0.1667 = 0.5001\n",
    "#      - Row 3: 0.1667 + 0.1667 + 0.1667 + 0.1666 = 0.6667\n",
    "#      - Row 4: 0.1666 + 0.1667 + 0.1667 + 0.1667 + 0.1667 = 0.8334\n",
    "#      - Row 5: 0.1667 + 0.1667 + 0.1667 + 0.1666 + 0.1667 + 0.1667 = 1.0001\n",
    "#    - row_sums = tensor([[0.1666],\n",
    "#                         [0.3334],\n",
    "#                         [0.5001],\n",
    "#                         [0.6667],\n",
    "#                         [0.8334],\n",
    "#                         [1.0001]])\n",
    "#    - Shape: (6, 1)\n",
    "\n",
    "# 6. Normalize masked weights\n",
    "#    - masked_simple_norm = masked_simple / row_sums\n",
    "#    - Element-wise division with broadcasting:\n",
    "#      - Row 0: [0.1666, 0.0000, 0.0000, 0.0000, 0.0000, 0.0000] / 0.1666 = [1.0000, 0.0000, 0.0000, 0.0000, 0.0000, 0.0000]\n",
    "#      - Row 1: [0.1667, 0.1667, 0.0000, 0.0000, 0.0000, 0.0000] / 0.3334 = [0.5000, 0.5000, 0.0000, 0.0000, 0.0000, 0.0000]\n",
    "#      - Row 2: [0.1667, 0.1667, 0.1667, 0.0000, 0.0000, 0.0000] / 0.5001 = [0.3333, 0.3333, 0.3333, 0.0000, 0.0000, 0.0000]\n",
    "#      - Row 3: [0.1667, 0.1667, 0.1667, 0.1666, 0.0000, 0.0000] / 0.6667 = [0.2500, 0.2500, 0.2500, 0.2499, 0.0000, 0.0000]\n",
    "#      - Row 4: [0.1666, 0.1667, 0.1667, 0.1667, 0.1667, 0.0000] / 0.8334 = [0.1999, 0.2000, 0.2000, 0.2000, 0.2000, 0.0000]\n",
    "#      - Row 5: [0.1667, 0.1667, 0.1667, 0.1666, 0.1667, 0.1667] / 1.0001 = [0.1667, 0.1667, 0.1667, 0.1666, 0.1667, 0.1667]\n",
    "#    - masked_simple_norm = tensor([[1.0000, 0.0000, 0.0000, 0.0000, 0.0000, 0.0000],\n",
    "#                                  [0.5000, 0.5000, 0.0000, 0.0000, 0.0000, 0.0000],\n",
    "#                                  [0.3333, 0.3333, 0.3333, 0.0000, 0.0000, 0.0000],\n",
    "#                                  [0.2500, 0.2500, 0.2500, 0.2499, 0.0000, 0.0000],\n",
    "#                                  [0.1999, 0.2000, 0.2000, 0.2000, 0.2000, 0.0000],\n",
    "#                                  [0.1667, 0.1667, 0.1667, 0.1666, 0.1667, 0.1667]])\n",
    "#    - Shape: (6, 6)\n",
    "\n",
    "# 7. Print masked_simple_norm\n",
    "#    - Output: tensor([[1.0000, 0.0000, 0.0000, 0.0000, 0.0000, 0.0000],\n",
    "#                     [0.5000, 0.5000, 0.0000, 0.0000, 0.0000, 0.0000],\n",
    "#                     [0.3333, 0.3333, 0.3333, 0.0000, 0.0000, 0.0000],\n",
    "#                     [0.2500, 0.2500, 0.2500, 0.2499, 0.0000, 0.0000],\n",
    "#                     [0.1999, 0.2000, 0.2000, 0.2000, 0.2000, 0.0000],\n",
    "#                     [0.1667, 0.1667, 0.1667, 0.1666, 0.1667, 0.1667]])\n",
    "\n",
    "# === End of Dry Run ==="
   ]
  },
  {
   "cell_type": "code",
   "execution_count": 11,
   "id": "dcf900b0",
   "metadata": {},
   "outputs": [
    {
     "name": "stdout",
     "output_type": "stream",
     "text": [
      "tensor([[1., 0., 0., 0., 0., 0.],\n",
      "        [1., 1., 0., 0., 0., 0.],\n",
      "        [1., 1., 1., 0., 0., 0.],\n",
      "        [1., 1., 1., 1., 0., 0.],\n",
      "        [1., 1., 1., 1., 1., 0.],\n",
      "        [1., 1., 1., 1., 1., 1.]])\n"
     ]
    }
   ],
   "source": [
    "# We use the PyTorch tril function to create a mask where the values above the diagonal are zero \n",
    "\n",
    "context_length = attn_weights.shape[0]\n",
    "mask_simple = torch.tril(torch.ones(context_length, context_length))\n",
    "print(mask_simple)"
   ]
  },
  {
   "cell_type": "code",
   "execution_count": 12,
   "id": "b4c0ddb4",
   "metadata": {},
   "outputs": [
    {
     "data": {
      "text/plain": [
       "tensor([[0.1677, 0.0000, 0.0000, 0.0000, 0.0000, 0.0000],\n",
       "        [0.1682, 0.1667, 0.0000, 0.0000, 0.0000, 0.0000],\n",
       "        [0.1682, 0.1667, 0.1667, 0.0000, 0.0000, 0.0000],\n",
       "        [0.1675, 0.1667, 0.1667, 0.1662, 0.0000, 0.0000],\n",
       "        [0.1674, 0.1667, 0.1667, 0.1663, 0.1666, 0.0000],\n",
       "        [0.1678, 0.1667, 0.1667, 0.1661, 0.1667, 0.1661]],\n",
       "       grad_fn=<MulBackward0>)"
      ]
     },
     "execution_count": 12,
     "metadata": {},
     "output_type": "execute_result"
    }
   ],
   "source": [
    "masked_simple = attn_weights * mask_simple\n",
    "masked_simple"
   ]
  },
  {
   "cell_type": "code",
   "execution_count": null,
   "id": "a75b0737",
   "metadata": {},
   "outputs": [],
   "source": [
    "# Normalize the attention weights so that each row sums to 1.\n",
    "# This can be done by dividing each element in a row by the sum of that row."
   ]
  },
  {
   "cell_type": "code",
   "execution_count": 13,
   "id": "20d8062d",
   "metadata": {},
   "outputs": [
    {
     "name": "stdout",
     "output_type": "stream",
     "text": [
      "tensor([[1.0000, 0.0000, 0.0000, 0.0000, 0.0000, 0.0000],\n",
      "        [0.5023, 0.4977, 0.0000, 0.0000, 0.0000, 0.0000],\n",
      "        [0.3353, 0.3323, 0.3323, 0.0000, 0.0000, 0.0000],\n",
      "        [0.2511, 0.2498, 0.2499, 0.2492, 0.0000, 0.0000],\n",
      "        [0.2008, 0.1999, 0.1999, 0.1995, 0.1999, 0.0000],\n",
      "        [0.1678, 0.1667, 0.1667, 0.1661, 0.1667, 0.1661]],\n",
      "       grad_fn=<DivBackward0>)\n"
     ]
    }
   ],
   "source": [
    "row_sums = masked_simple.sum(dim=1, keepdim=True)\n",
    "masked_simple_norm = masked_simple/row_sums\n",
    "print(masked_simple_norm)"
   ]
  },
  {
   "cell_type": "markdown",
   "id": "8ccfaa8b",
   "metadata": {},
   "source": [
    "Another way of the mask out future tokens"
   ]
  },
  {
   "cell_type": "code",
   "execution_count": null,
   "id": "6c7f2e87",
   "metadata": {},
   "outputs": [],
   "source": [
    "\n",
    "# mask = torch.triu(torch.ones(context_length, context_length), diagonal=1)\n",
    "# Structured Dry Run:\n",
    "# 1. context_length = 6\n",
    "# 2. Create mask = torch.triu(torch.ones(6, 6), diagonal=1):\n",
    "#    - torch.ones(6, 6) creates a 6x6 tensor filled with 1s\n",
    "#    - torch.triu(..., diagonal=1) keeps elements above the main diagonal (i.e., i < j) as 1, others as 0\n",
    "#    mask = tensor([[0., 1., 1., 1., 1., 1.],\n",
    "#                   [0., 0., 1., 1., 1., 1.],\n",
    "#                   [0., 0., 0., 1., 1., 1.],\n",
    "#                   [0., 0., 0., 0., 1., 1.],\n",
    "#                   [0., 0., 0., 0., 0., 1.],\n",
    "#                   [0., 0., 0., 0., 0., 0.]])\n",
    "\n",
    "# masked = attn_scores.masked_fill(mask.bool(), -torch.inf)\n",
    "# 3. Convert mask to boolean: mask.bool() = tensor([[False,  True,  True,  True,  True,  True],\n",
    "#                                                 [False, False,  True,  True,  True,  True],\n",
    "#                                                 [False, False, False,  True,  True,  True],\n",
    "#                                                 [False, False, False, False,  True,  True],\n",
    "#                                                 [False, False, False, False, False,  True],\n",
    "#                                                 [False, False, False, False, False, False]])\n",
    "# 4. Apply masked_fill:\n",
    "#    - Replace elements where mask.bool() is True with -torch.inf\n",
    "#    - masked = attn_scores where mask is 0, else -torch.inf\n",
    "#    masked = tensor([[ 1.2825,    -inf,    -inf,    -inf,    -inf,    -inf],\n",
    "#                     [ 1.7507,  2.0249,    -inf,    -inf,    -inf,    -inf],\n",
    "#                     [ 1.7269,  1.9966,  1.9817,    -inf,    -inf,    -inf],\n",
    "#                     [ 0.5938,  1.1114,  1.1028,  0.5625,    -inf,    -inf],\n",
    "#                     [ 0.5294,  0.9639,  0.9560,  0.4898,  0.5778,    -inf],\n",
    "#                     [ 1.2447,  1.4388,  1.4287,  0.7274,  0.8839,  0.8610]])\n",
    "\n",
    "# print(masked)\n",
    "# 5. Print: tensor([[ 1.2825,    -inf,    -inf,    -inf,    -inf,    -inf],\n",
    "#                  [ 1.7507,  2.0249,    -inf,    -inf,    -inf,    -inf],\n",
    "#                  [ 1.7269,  1.9966,  1.9817,    -inf,    -inf,    -inf],\n",
    "#                  [ 0.5938,  1.1114,  1.1028,  0.5625,    -inf,    -inf],\n",
    "#                  [ 0.5294,  0.9639,  0.9560,  0.4898,  0.5778,    -inf],\n",
    "#                  [ 1.2447,  1.4388,  1.4287,  0.7274,  0.8839,  0.8610]])\n",
    "\n",
    "# Structured Dry Run Summary:\n",
    "# 1. context_length = 6\n",
    "# 2. Create mask = torch.triu(torch.ones(6, 6), diagonal=1):\n",
    "#    - mask = [[0., 1., 1., 1., 1., 1.],\n",
    "#              [0., 0., 1., 1., 1., 1.],\n",
    "#              [0., 0., 0., 1., 1., 1.],\n",
    "#              [0., 0., 0., 0., 1., 1.],\n",
    "#              [0., 0., 0., 0., 0., 1.],\n",
    "#              [0., 0., 0., 0., 0., 0.]]\n",
    "# 3. Convert to boolean: mask.bool() = [[False, True, True, True, True, True], ...]\n",
    "# 4. Compute masked = attn_scores.masked_fill(mask.bool(), -torch.inf):\n",
    "#    - masked = [[ 1.2825,    -inf,    -inf,    -inf,    -inf,    -inf],\n",
    "#                [ 1.7507,  2.0249,    -inf,    -inf,    -inf,    -inf],\n",
    "#                [ 1.7269,  1.9966,  1.9817,    -inf,    -inf,    -inf],\n",
    "#                [ 0.5938,  1.1114,  1.1028,  0.5625,    -inf,    -inf],\n",
    "#                [ 0.5294,  0.9639,  0.9560,  0.4898,  0.5778,    -inf],\n",
    "#                [ 1.2447,  1.4388,  1.4287,  0.7274,  0.8839,  0.8610]]\n",
    "# 5. Print: tensor([[ 1.2825,    -inf,    -inf,    -inf,    -inf,    -inf], ...])"
   ]
  },
  {
   "cell_type": "code",
   "execution_count": 14,
   "id": "2874cd2e",
   "metadata": {},
   "outputs": [
    {
     "name": "stdout",
     "output_type": "stream",
     "text": [
      "tensor([[0.2899,   -inf,   -inf,   -inf,   -inf,   -inf],\n",
      "        [0.4656, 0.1723,   -inf,   -inf,   -inf,   -inf],\n",
      "        [0.4594, 0.1703, 0.1731,   -inf,   -inf,   -inf],\n",
      "        [0.2642, 0.1024, 0.1036, 0.0186,   -inf,   -inf],\n",
      "        [0.2183, 0.0874, 0.0882, 0.0177, 0.0786,   -inf],\n",
      "        [0.3408, 0.1270, 0.1290, 0.0198, 0.1290, 0.0078]],\n",
      "       grad_fn=<MaskedFillBackward0>)\n"
     ]
    }
   ],
   "source": [
    "mask = torch.triu(torch.ones(context_length, context_length), diagonal=1)\n",
    "masked = attn_scores.masked_fill(mask.bool(), -torch.inf)\n",
    "print(masked)"
   ]
  },
  {
   "cell_type": "code",
   "execution_count": 15,
   "id": "f9f077da",
   "metadata": {},
   "outputs": [
    {
     "data": {
      "text/plain": [
       "tensor([[1.0000, 0.0000, 0.0000, 0.0000, 0.0000, 0.0000],\n",
       "        [0.5299, 0.4701, 0.0000, 0.0000, 0.0000, 0.0000],\n",
       "        [0.3599, 0.3199, 0.3202, 0.0000, 0.0000, 0.0000],\n",
       "        [0.2647, 0.2478, 0.2479, 0.2395, 0.0000, 0.0000],\n",
       "        [0.2100, 0.1991, 0.1991, 0.1935, 0.1983, 0.0000],\n",
       "        [0.1818, 0.1666, 0.1667, 0.1595, 0.1667, 0.1587]],\n",
       "       grad_fn=<SoftmaxBackward0>)"
      ]
     },
     "execution_count": 15,
     "metadata": {},
     "output_type": "execute_result"
    }
   ],
   "source": [
    "# apply softmax\n",
    "\n",
    "attn_weights = torch.softmax(masked/keys.shape[0]**0.5, dim=1)\n",
    "attn_weights"
   ]
  },
  {
   "cell_type": "code",
   "execution_count": 18,
   "id": "3e9dbf70",
   "metadata": {},
   "outputs": [
    {
     "name": "stdout",
     "output_type": "stream",
     "text": [
      "tensor([[2., 2., 0., 2., 2., 0.],\n",
      "        [0., 0., 0., 2., 0., 2.],\n",
      "        [2., 2., 2., 2., 0., 2.],\n",
      "        [0., 2., 2., 0., 0., 2.],\n",
      "        [0., 2., 0., 2., 0., 2.],\n",
      "        [0., 2., 2., 2., 2., 0.]])\n"
     ]
    }
   ],
   "source": [
    "# Dropouts\n",
    "torch.manual_seed(123)\n",
    "dropouts=torch.nn.Dropout(0.5)\n",
    "example=torch.ones(6,6)\n",
    "print(dropouts(example))"
   ]
  },
  {
   "cell_type": "markdown",
   "id": "60a377bf",
   "metadata": {},
   "source": [
    "#### **Multiple Batches Input**"
   ]
  },
  {
   "cell_type": "code",
   "execution_count": 19,
   "id": "a4f9d8e3",
   "metadata": {},
   "outputs": [
    {
     "data": {
      "text/plain": [
       "torch.Size([2, 6, 3])"
      ]
     },
     "execution_count": 19,
     "metadata": {},
     "output_type": "execute_result"
    }
   ],
   "source": [
    "batch = torch.stack((inputs, inputs), dim=0)\n",
    "batch.shape"
   ]
  },
  {
   "cell_type": "code",
   "execution_count": 22,
   "id": "ba91aa68",
   "metadata": {},
   "outputs": [],
   "source": [
    "class CausalAttention(nn.Module):\n",
    "    def __init__(self, d_in, d_out, context_length, dropout, qkv_bias=False):\n",
    "        super().__init__()\n",
    "        self.d_out = d_out\n",
    "        self.W_query = nn.Linear(d_in, d_out, bias=qkv_bias)\n",
    "        self.W_key = nn.Linear(d_in, d_out, bias=qkv_bias)\n",
    "        self.W_value = nn.Linear(d_in, d_out, bias=qkv_bias)\n",
    "        self.dropout = nn.Dropout(dropout)\n",
    "        # causal mask (upper triangular)\n",
    "        self.register_buffer('mask', torch.triu(torch.ones(context_length, context_length), diagonal=1))\n",
    "\n",
    "    def forward(self, x):\n",
    "        # x: (batch_size, num_tokens, d_in)\n",
    "        batch_size, num_tokens, d_in = x.shape\n",
    "\n",
    "        # project input into queries, keys, values\n",
    "        keys = self.W_key(x)      # (batch, num_tokens, d_out)\n",
    "        queries = self.W_query(x) # (batch, num_tokens, d_out)\n",
    "        values = self.W_value(x)  # (batch, num_tokens, d_out)\n",
    "\n",
    "        # attention scores: (batch, num_tokens, num_tokens)\n",
    "        attn_scores = queries @ keys.transpose(1, 2)\n",
    "\n",
    "        # apply causal mask\n",
    "        attn_scores.masked_fill_(\n",
    "            self.mask.bool()[:num_tokens, :num_tokens], -torch.inf\n",
    "        )\n",
    "\n",
    "        # normalize with softmax\n",
    "        attn_weights = torch.softmax(attn_scores / (keys.shape[-1] ** 0.5), dim=-1)\n",
    "        attn_weights = self.dropout(attn_weights)\n",
    "\n",
    "        # weighted sum of values\n",
    "        context_vec = attn_weights @ values\n",
    "\n",
    "        return context_vec\n"
   ]
  },
  {
   "cell_type": "code",
   "execution_count": 24,
   "id": "80e566fb",
   "metadata": {},
   "outputs": [
    {
     "name": "stdout",
     "output_type": "stream",
     "text": [
      "3\n",
      "2\n"
     ]
    },
    {
     "data": {
      "text/plain": [
       "(None, None)"
      ]
     },
     "execution_count": 24,
     "metadata": {},
     "output_type": "execute_result"
    }
   ],
   "source": [
    "print(d_in), print(d_out)"
   ]
  },
  {
   "cell_type": "code",
   "execution_count": 25,
   "id": "45ff7222",
   "metadata": {},
   "outputs": [
    {
     "name": "stdout",
     "output_type": "stream",
     "text": [
      "Context vector shape:  torch.Size([2, 6, 2])\n"
     ]
    }
   ],
   "source": [
    "torch.manual_seed(123)\n",
    "context_length = batch.shape[1]\n",
    "ca = CausalAttention(d_in, d_out, context_length, 0.0)\n",
    "context_vecs = ca(batch)\n",
    "\n",
    "print(\"Context vector shape: \", context_vecs.shape)"
   ]
  },
  {
   "cell_type": "code",
   "execution_count": 26,
   "id": "21e1fa38",
   "metadata": {},
   "outputs": [
    {
     "data": {
      "text/plain": [
       "tensor([[-0.4519,  0.2216],\n",
       "        [-0.5874,  0.0058],\n",
       "        [-0.6300, -0.0632],\n",
       "        [-0.5675, -0.0843],\n",
       "        [-0.5526, -0.0981],\n",
       "        [-0.5299, -0.1081]], grad_fn=<SelectBackward0>)"
      ]
     },
     "execution_count": 26,
     "metadata": {},
     "output_type": "execute_result"
    }
   ],
   "source": [
    "context_vecs[0]"
   ]
  },
  {
   "cell_type": "code",
   "execution_count": 27,
   "id": "0add64e8",
   "metadata": {},
   "outputs": [
    {
     "data": {
      "text/plain": [
       "tensor([[-0.4519,  0.2216],\n",
       "        [-0.5874,  0.0058],\n",
       "        [-0.6300, -0.0632],\n",
       "        [-0.5675, -0.0843],\n",
       "        [-0.5526, -0.0981],\n",
       "        [-0.5299, -0.1081]], grad_fn=<SelectBackward0>)"
      ]
     },
     "execution_count": 27,
     "metadata": {},
     "output_type": "execute_result"
    }
   ],
   "source": [
    "context_vecs[1]"
   ]
  },
  {
   "cell_type": "code",
   "execution_count": null,
   "id": "c021776d",
   "metadata": {},
   "outputs": [],
   "source": []
  }
 ],
 "metadata": {
  "kernelspec": {
   "display_name": "env1",
   "language": "python",
   "name": "python3"
  },
  "language_info": {
   "codemirror_mode": {
    "name": "ipython",
    "version": 3
   },
   "file_extension": ".py",
   "mimetype": "text/x-python",
   "name": "python",
   "nbconvert_exporter": "python",
   "pygments_lexer": "ipython3",
   "version": "3.10.9"
  }
 },
 "nbformat": 4,
 "nbformat_minor": 5
}
