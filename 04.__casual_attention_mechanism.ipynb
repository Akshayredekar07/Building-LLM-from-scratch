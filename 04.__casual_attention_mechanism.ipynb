{
 "cells": [
  {
   "cell_type": "code",
   "execution_count": 1,
   "id": "a83af85c",
   "metadata": {},
   "outputs": [],
   "source": [
    "import torch\n",
    "\n",
    "inputs = torch.tensor(\n",
    "    [[0.43, 0.15, 0.89],  # Your     (x^1)\n",
    "     [0.55, 0.87, 0.66],  # journey  (x^2)\n",
    "     [0.57, 0.85, 0.64],  # starts   (x^3)\n",
    "     [0.22, 0.58, 0.33],  # with     (x^4)\n",
    "     [0.77, 0.25, 0.10],  # one      (x^5)\n",
    "     [0.05, 0.80, 0.55]]  # step     (x^6)\n",
    ")"
   ]
  },
  {
   "cell_type": "code",
   "execution_count": 2,
   "id": "a58bf875",
   "metadata": {},
   "outputs": [],
   "source": [
    "import torch.nn as nn"
   ]
  },
  {
   "cell_type": "code",
   "execution_count": 6,
   "id": "290564a3",
   "metadata": {},
   "outputs": [],
   "source": [
    "class SelfAttention_v2(nn.Module):\n",
    "\n",
    "    def __init__(self, d_in, d_out, qkv_bias=False):\n",
    "        super().__init__()\n",
    "        self.W_query = nn.Linear(d_in, d_out, bias=qkv_bias)\n",
    "        self.W_key   = nn.Linear(d_in, d_out, bias=qkv_bias)\n",
    "        self.W_value = nn.Linear(d_in, d_out, bias=qkv_bias)\n",
    "\n",
    "    def forward(self, x):\n",
    "        keys = self.W_key(x)\n",
    "        queries = self.W_query(x)\n",
    "        values = self.W_value(x)\n",
    "        \n",
    "        attn_scores = queries @ keys.T\n",
    "        attn_weights = torch.softmax(attn_scores / keys.shape[-1]**0.5, dim=-1)\n",
    "\n",
    "        context_vec = attn_weights @ values\n",
    "        return context_vec"
   ]
  },
  {
   "cell_type": "code",
   "execution_count": 7,
   "id": "a7ad2b1b",
   "metadata": {},
   "outputs": [],
   "source": [
    "\n",
    "inputs = torch.tensor(\n",
    "    [[0.43, 0.15, 0.89],  # Your     (x^1)\n",
    "     [0.55, 0.87, 0.66],  # journey  (x^2)\n",
    "     [0.57, 0.85, 0.64],  # starts   (x^3)\n",
    "     [0.22, 0.58, 0.33],  # with     (x^4)\n",
    "     [0.77, 0.25, 0.10],  # one      (x^5)\n",
    "     [0.05, 0.80, 0.55]]  # step     (x^6)\n",
    ")"
   ]
  },
  {
   "cell_type": "code",
   "execution_count": 8,
   "id": "8e274de3",
   "metadata": {},
   "outputs": [
    {
     "data": {
      "text/plain": [
       "tensor([[-0.0739,  0.0713],\n",
       "        [-0.0748,  0.0703],\n",
       "        [-0.0749,  0.0702],\n",
       "        [-0.0760,  0.0685],\n",
       "        [-0.0763,  0.0679],\n",
       "        [-0.0754,  0.0693]], grad_fn=<MmBackward0>)"
      ]
     },
     "execution_count": 8,
     "metadata": {},
     "output_type": "execute_result"
    }
   ],
   "source": [
    "d_in = inputs.shape[1]\n",
    "d_out = 2\n",
    "torch.manual_seed(789)\n",
    "self_attention_v2 = SelfAttention_v2(d_in, d_out)\n",
    "self_attention_v2(inputs)"
   ]
  },
  {
   "cell_type": "code",
   "execution_count": 9,
   "id": "bdc6ba15",
   "metadata": {},
   "outputs": [
    {
     "name": "stdout",
     "output_type": "stream",
     "text": [
      "tensor([[0.1677, 0.1666, 0.1666, 0.1662, 0.1669, 0.1660],\n",
      "        [0.1682, 0.1667, 0.1667, 0.1659, 0.1667, 0.1658],\n",
      "        [0.1682, 0.1667, 0.1667, 0.1659, 0.1667, 0.1658],\n",
      "        [0.1675, 0.1667, 0.1667, 0.1662, 0.1667, 0.1662],\n",
      "        [0.1674, 0.1667, 0.1667, 0.1663, 0.1666, 0.1663],\n",
      "        [0.1678, 0.1667, 0.1667, 0.1661, 0.1667, 0.1661]],\n",
      "       grad_fn=<SoftmaxBackward0>)\n"
     ]
    }
   ],
   "source": [
    "queries = self_attention_v2.W_query(inputs)\n",
    "keys = self_attention_v2.W_key(inputs)\n",
    "attn_scores = queries @ keys.T\n",
    "attn_weights = torch.softmax(attn_scores/keys.shape[-1]**5, dim=-1)\n",
    "print(attn_weights)"
   ]
  },
  {
   "cell_type": "code",
   "execution_count": 11,
   "id": "dcf900b0",
   "metadata": {},
   "outputs": [
    {
     "name": "stdout",
     "output_type": "stream",
     "text": [
      "tensor([[1., 0., 0., 0., 0., 0.],\n",
      "        [1., 1., 0., 0., 0., 0.],\n",
      "        [1., 1., 1., 0., 0., 0.],\n",
      "        [1., 1., 1., 1., 0., 0.],\n",
      "        [1., 1., 1., 1., 1., 0.],\n",
      "        [1., 1., 1., 1., 1., 1.]])\n"
     ]
    }
   ],
   "source": [
    "# We use the PyTorch tril function to create a mask where the values above the diagonal are zero \n",
    "\n",
    "context_length = attn_weights.shape[0]\n",
    "mask_simple = torch.tril(torch.ones(context_length, context_length))\n",
    "print(mask_simple)"
   ]
  },
  {
   "cell_type": "code",
   "execution_count": 12,
   "id": "b4c0ddb4",
   "metadata": {},
   "outputs": [
    {
     "data": {
      "text/plain": [
       "tensor([[0.1677, 0.0000, 0.0000, 0.0000, 0.0000, 0.0000],\n",
       "        [0.1682, 0.1667, 0.0000, 0.0000, 0.0000, 0.0000],\n",
       "        [0.1682, 0.1667, 0.1667, 0.0000, 0.0000, 0.0000],\n",
       "        [0.1675, 0.1667, 0.1667, 0.1662, 0.0000, 0.0000],\n",
       "        [0.1674, 0.1667, 0.1667, 0.1663, 0.1666, 0.0000],\n",
       "        [0.1678, 0.1667, 0.1667, 0.1661, 0.1667, 0.1661]],\n",
       "       grad_fn=<MulBackward0>)"
      ]
     },
     "execution_count": 12,
     "metadata": {},
     "output_type": "execute_result"
    }
   ],
   "source": [
    "masked_simple = attn_weights * mask_simple\n",
    "masked_simple"
   ]
  },
  {
   "cell_type": "code",
   "execution_count": null,
   "id": "a75b0737",
   "metadata": {},
   "outputs": [],
   "source": [
    "# Normalize the attention weights so that each row sums to 1.\n",
    "# This can be done by dividing each element in a row by the sum of that row."
   ]
  },
  {
   "cell_type": "code",
   "execution_count": 13,
   "id": "20d8062d",
   "metadata": {},
   "outputs": [
    {
     "name": "stdout",
     "output_type": "stream",
     "text": [
      "tensor([[1.0000, 0.0000, 0.0000, 0.0000, 0.0000, 0.0000],\n",
      "        [0.5023, 0.4977, 0.0000, 0.0000, 0.0000, 0.0000],\n",
      "        [0.3353, 0.3323, 0.3323, 0.0000, 0.0000, 0.0000],\n",
      "        [0.2511, 0.2498, 0.2499, 0.2492, 0.0000, 0.0000],\n",
      "        [0.2008, 0.1999, 0.1999, 0.1995, 0.1999, 0.0000],\n",
      "        [0.1678, 0.1667, 0.1667, 0.1661, 0.1667, 0.1661]],\n",
      "       grad_fn=<DivBackward0>)\n"
     ]
    }
   ],
   "source": [
    "row_sums = masked_simple.sum(dim=1, keepdim=True)\n",
    "masked_simple_norm = masked_simple/row_sums\n",
    "print(masked_simple_norm)"
   ]
  },
  {
   "cell_type": "markdown",
   "id": "8ccfaa8b",
   "metadata": {},
   "source": [
    "Another way of the mask out future tokens"
   ]
  },
  {
   "cell_type": "code",
   "execution_count": null,
   "id": "6c7f2e87",
   "metadata": {},
   "outputs": [],
   "source": [
    "\n",
    "# mask = torch.triu(torch.ones(context_length, context_length), diagonal=1)\n",
    "# Structured Dry Run:\n",
    "# 1. context_length = 6\n",
    "# 2. Create mask = torch.triu(torch.ones(6, 6), diagonal=1):\n",
    "#    - torch.ones(6, 6) creates a 6x6 tensor filled with 1s\n",
    "#    - torch.triu(..., diagonal=1) keeps elements above the main diagonal (i.e., i < j) as 1, others as 0\n",
    "#    mask = tensor([[0., 1., 1., 1., 1., 1.],\n",
    "#                   [0., 0., 1., 1., 1., 1.],\n",
    "#                   [0., 0., 0., 1., 1., 1.],\n",
    "#                   [0., 0., 0., 0., 1., 1.],\n",
    "#                   [0., 0., 0., 0., 0., 1.],\n",
    "#                   [0., 0., 0., 0., 0., 0.]])\n",
    "\n",
    "# masked = attn_scores.masked_fill(mask.bool(), -torch.inf)\n",
    "# 3. Convert mask to boolean: mask.bool() = tensor([[False,  True,  True,  True,  True,  True],\n",
    "#                                                 [False, False,  True,  True,  True,  True],\n",
    "#                                                 [False, False, False,  True,  True,  True],\n",
    "#                                                 [False, False, False, False,  True,  True],\n",
    "#                                                 [False, False, False, False, False,  True],\n",
    "#                                                 [False, False, False, False, False, False]])\n",
    "# 4. Apply masked_fill:\n",
    "#    - Replace elements where mask.bool() is True with -torch.inf\n",
    "#    - masked = attn_scores where mask is 0, else -torch.inf\n",
    "#    masked = tensor([[ 1.2825,    -inf,    -inf,    -inf,    -inf,    -inf],\n",
    "#                     [ 1.7507,  2.0249,    -inf,    -inf,    -inf,    -inf],\n",
    "#                     [ 1.7269,  1.9966,  1.9817,    -inf,    -inf,    -inf],\n",
    "#                     [ 0.5938,  1.1114,  1.1028,  0.5625,    -inf,    -inf],\n",
    "#                     [ 0.5294,  0.9639,  0.9560,  0.4898,  0.5778,    -inf],\n",
    "#                     [ 1.2447,  1.4388,  1.4287,  0.7274,  0.8839,  0.8610]])\n",
    "\n",
    "# print(masked)\n",
    "# 5. Print: tensor([[ 1.2825,    -inf,    -inf,    -inf,    -inf,    -inf],\n",
    "#                  [ 1.7507,  2.0249,    -inf,    -inf,    -inf,    -inf],\n",
    "#                  [ 1.7269,  1.9966,  1.9817,    -inf,    -inf,    -inf],\n",
    "#                  [ 0.5938,  1.1114,  1.1028,  0.5625,    -inf,    -inf],\n",
    "#                  [ 0.5294,  0.9639,  0.9560,  0.4898,  0.5778,    -inf],\n",
    "#                  [ 1.2447,  1.4388,  1.4287,  0.7274,  0.8839,  0.8610]])\n",
    "\n",
    "# Structured Dry Run Summary:\n",
    "# 1. context_length = 6\n",
    "# 2. Create mask = torch.triu(torch.ones(6, 6), diagonal=1):\n",
    "#    - mask = [[0., 1., 1., 1., 1., 1.],\n",
    "#              [0., 0., 1., 1., 1., 1.],\n",
    "#              [0., 0., 0., 1., 1., 1.],\n",
    "#              [0., 0., 0., 0., 1., 1.],\n",
    "#              [0., 0., 0., 0., 0., 1.],\n",
    "#              [0., 0., 0., 0., 0., 0.]]\n",
    "# 3. Convert to boolean: mask.bool() = [[False, True, True, True, True, True], ...]\n",
    "# 4. Compute masked = attn_scores.masked_fill(mask.bool(), -torch.inf):\n",
    "#    - masked = [[ 1.2825,    -inf,    -inf,    -inf,    -inf,    -inf],\n",
    "#                [ 1.7507,  2.0249,    -inf,    -inf,    -inf,    -inf],\n",
    "#                [ 1.7269,  1.9966,  1.9817,    -inf,    -inf,    -inf],\n",
    "#                [ 0.5938,  1.1114,  1.1028,  0.5625,    -inf,    -inf],\n",
    "#                [ 0.5294,  0.9639,  0.9560,  0.4898,  0.5778,    -inf],\n",
    "#                [ 1.2447,  1.4388,  1.4287,  0.7274,  0.8839,  0.8610]]\n",
    "# 5. Print: tensor([[ 1.2825,    -inf,    -inf,    -inf,    -inf,    -inf], ...])"
   ]
  },
  {
   "cell_type": "code",
   "execution_count": 14,
   "id": "2874cd2e",
   "metadata": {},
   "outputs": [
    {
     "name": "stdout",
     "output_type": "stream",
     "text": [
      "tensor([[0.2899,   -inf,   -inf,   -inf,   -inf,   -inf],\n",
      "        [0.4656, 0.1723,   -inf,   -inf,   -inf,   -inf],\n",
      "        [0.4594, 0.1703, 0.1731,   -inf,   -inf,   -inf],\n",
      "        [0.2642, 0.1024, 0.1036, 0.0186,   -inf,   -inf],\n",
      "        [0.2183, 0.0874, 0.0882, 0.0177, 0.0786,   -inf],\n",
      "        [0.3408, 0.1270, 0.1290, 0.0198, 0.1290, 0.0078]],\n",
      "       grad_fn=<MaskedFillBackward0>)\n"
     ]
    }
   ],
   "source": [
    "mask = torch.triu(torch.ones(context_length, context_length), diagonal=1)\n",
    "masked = attn_scores.masked_fill(mask.bool(), -torch.inf)\n",
    "print(masked)"
   ]
  },
  {
   "cell_type": "code",
   "execution_count": 15,
   "id": "f9f077da",
   "metadata": {},
   "outputs": [
    {
     "data": {
      "text/plain": [
       "tensor([[1.0000, 0.0000, 0.0000, 0.0000, 0.0000, 0.0000],\n",
       "        [0.5299, 0.4701, 0.0000, 0.0000, 0.0000, 0.0000],\n",
       "        [0.3599, 0.3199, 0.3202, 0.0000, 0.0000, 0.0000],\n",
       "        [0.2647, 0.2478, 0.2479, 0.2395, 0.0000, 0.0000],\n",
       "        [0.2100, 0.1991, 0.1991, 0.1935, 0.1983, 0.0000],\n",
       "        [0.1818, 0.1666, 0.1667, 0.1595, 0.1667, 0.1587]],\n",
       "       grad_fn=<SoftmaxBackward0>)"
      ]
     },
     "execution_count": 15,
     "metadata": {},
     "output_type": "execute_result"
    }
   ],
   "source": [
    "# apply softmax\n",
    "\n",
    "attn_weights = torch.softmax(masked/keys.shape[0]**0.5, dim=1)\n",
    "attn_weights"
   ]
  },
  {
   "cell_type": "code",
   "execution_count": 18,
   "id": "3e9dbf70",
   "metadata": {},
   "outputs": [
    {
     "name": "stdout",
     "output_type": "stream",
     "text": [
      "tensor([[2., 2., 0., 2., 2., 0.],\n",
      "        [0., 0., 0., 2., 0., 2.],\n",
      "        [2., 2., 2., 2., 0., 2.],\n",
      "        [0., 2., 2., 0., 0., 2.],\n",
      "        [0., 2., 0., 2., 0., 2.],\n",
      "        [0., 2., 2., 2., 2., 0.]])\n"
     ]
    }
   ],
   "source": [
    "# Dropouts\n",
    "torch.manual_seed(123)\n",
    "dropouts=torch.nn.Dropout(0.5)\n",
    "example=torch.ones(6,6)\n",
    "print(dropouts(example))"
   ]
  },
  {
   "cell_type": "markdown",
   "id": "60a377bf",
   "metadata": {},
   "source": [
    "#### **Multiple Batches Input**"
   ]
  },
  {
   "cell_type": "code",
   "execution_count": 19,
   "id": "a4f9d8e3",
   "metadata": {},
   "outputs": [
    {
     "data": {
      "text/plain": [
       "torch.Size([2, 6, 3])"
      ]
     },
     "execution_count": 19,
     "metadata": {},
     "output_type": "execute_result"
    }
   ],
   "source": [
    "batch = torch.stack((inputs, inputs), dim=0)\n",
    "batch.shape"
   ]
  },
  {
   "cell_type": "code",
   "execution_count": 22,
   "id": "ba91aa68",
   "metadata": {},
   "outputs": [],
   "source": [
    "class CausalAttention(nn.Module):\n",
    "    def __init__(self, d_in, d_out, context_length, dropout, qkv_bias=False):\n",
    "        super().__init__()\n",
    "        self.d_out = d_out\n",
    "        self.W_query = nn.Linear(d_in, d_out, bias=qkv_bias)\n",
    "        self.W_key = nn.Linear(d_in, d_out, bias=qkv_bias)\n",
    "        self.W_value = nn.Linear(d_in, d_out, bias=qkv_bias)\n",
    "        self.dropout = nn.Dropout(dropout)\n",
    "        # causal mask (upper triangular)\n",
    "        self.register_buffer('mask', torch.triu(torch.ones(context_length, context_length), diagonal=1))\n",
    "\n",
    "    def forward(self, x):\n",
    "        # x: (batch_size, num_tokens, d_in)\n",
    "        batch_size, num_tokens, d_in = x.shape\n",
    "\n",
    "        # project input into queries, keys, values\n",
    "        keys = self.W_key(x)      # (batch, num_tokens, d_out)\n",
    "        queries = self.W_query(x) # (batch, num_tokens, d_out)\n",
    "        values = self.W_value(x)  # (batch, num_tokens, d_out)\n",
    "\n",
    "        # attention scores: (batch, num_tokens, num_tokens)\n",
    "        attn_scores = queries @ keys.transpose(1, 2)\n",
    "\n",
    "        # apply causal mask\n",
    "        attn_scores.masked_fill_(\n",
    "            self.mask.bool()[:num_tokens, :num_tokens], -torch.inf\n",
    "        )\n",
    "\n",
    "        # normalize with softmax\n",
    "        attn_weights = torch.softmax(attn_scores / (keys.shape[-1] ** 0.5), dim=-1)\n",
    "        attn_weights = self.dropout(attn_weights)\n",
    "\n",
    "        # weighted sum of values\n",
    "        context_vec = attn_weights @ values\n",
    "\n",
    "        return context_vec\n"
   ]
  },
  {
   "cell_type": "code",
   "execution_count": 24,
   "id": "80e566fb",
   "metadata": {},
   "outputs": [
    {
     "name": "stdout",
     "output_type": "stream",
     "text": [
      "3\n",
      "2\n"
     ]
    },
    {
     "data": {
      "text/plain": [
       "(None, None)"
      ]
     },
     "execution_count": 24,
     "metadata": {},
     "output_type": "execute_result"
    }
   ],
   "source": [
    "print(d_in), print(d_out)"
   ]
  },
  {
   "cell_type": "code",
   "execution_count": 25,
   "id": "45ff7222",
   "metadata": {},
   "outputs": [
    {
     "name": "stdout",
     "output_type": "stream",
     "text": [
      "Context vector shape:  torch.Size([2, 6, 2])\n"
     ]
    }
   ],
   "source": [
    "torch.manual_seed(123)\n",
    "context_length = batch.shape[1]\n",
    "ca = CausalAttention(d_in, d_out, context_length, 0.0)\n",
    "context_vecs = ca(batch)\n",
    "\n",
    "print(\"Context vector shape: \", context_vecs.shape)"
   ]
  },
  {
   "cell_type": "code",
   "execution_count": 26,
   "id": "21e1fa38",
   "metadata": {},
   "outputs": [
    {
     "data": {
      "text/plain": [
       "tensor([[-0.4519,  0.2216],\n",
       "        [-0.5874,  0.0058],\n",
       "        [-0.6300, -0.0632],\n",
       "        [-0.5675, -0.0843],\n",
       "        [-0.5526, -0.0981],\n",
       "        [-0.5299, -0.1081]], grad_fn=<SelectBackward0>)"
      ]
     },
     "execution_count": 26,
     "metadata": {},
     "output_type": "execute_result"
    }
   ],
   "source": [
    "context_vecs[0]"
   ]
  },
  {
   "cell_type": "code",
   "execution_count": 27,
   "id": "0add64e8",
   "metadata": {},
   "outputs": [
    {
     "data": {
      "text/plain": [
       "tensor([[-0.4519,  0.2216],\n",
       "        [-0.5874,  0.0058],\n",
       "        [-0.6300, -0.0632],\n",
       "        [-0.5675, -0.0843],\n",
       "        [-0.5526, -0.0981],\n",
       "        [-0.5299, -0.1081]], grad_fn=<SelectBackward0>)"
      ]
     },
     "execution_count": 27,
     "metadata": {},
     "output_type": "execute_result"
    }
   ],
   "source": [
    "context_vecs[1]"
   ]
  },
  {
   "cell_type": "code",
   "execution_count": null,
   "id": "c021776d",
   "metadata": {},
   "outputs": [],
   "source": []
  }
 ],
 "metadata": {
  "kernelspec": {
   "display_name": "env1",
   "language": "python",
   "name": "python3"
  },
  "language_info": {
   "codemirror_mode": {
    "name": "ipython",
    "version": 3
   },
   "file_extension": ".py",
   "mimetype": "text/x-python",
   "name": "python",
   "nbconvert_exporter": "python",
   "pygments_lexer": "ipython3",
   "version": "3.10.9"
  }
 },
 "nbformat": 4,
 "nbformat_minor": 5
}
